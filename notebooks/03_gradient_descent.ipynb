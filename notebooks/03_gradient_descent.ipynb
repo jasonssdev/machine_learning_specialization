{
 "cells": [
  {
   "cell_type": "markdown",
   "metadata": {},
   "source": [
    "# Gradient Descent for Linear Regresion\n"
   ]
  },
  {
   "cell_type": "code",
   "execution_count": 1,
   "metadata": {},
   "outputs": [],
   "source": [
    "import math, copy\n",
    "import numpy as np\n",
    "import pandas as pd\n",
    "import matplotlib.pyplot as plt"
   ]
  },
  {
   "cell_type": "code",
   "execution_count": 2,
   "metadata": {},
   "outputs": [],
   "source": [
    "# random data about houses\n",
    "x_train = np.array([1.0, 2.0, 3.0, 3.5, 4.0, 6.5, 8.0])\n",
    "y_train = np.array([300.0, 500.0, 730.0, 800.0, 950.0, 1300, 1900])"
   ]
  },
  {
   "cell_type": "code",
   "execution_count": 3,
   "metadata": {},
   "outputs": [],
   "source": [
    "# Cost function\n",
    "\n",
    "def cost_function(x, y, w, b):\n",
    "    m = x.shape[0]\n",
    "    cost_sum = 0\n",
    "\n",
    "    for i in range(m):\n",
    "        f_wb =  w * x[i] + b\n",
    "        cost_sum = cost_sum + (f_wb - y[i]) ** 2\n",
    "    total_cost = 1 / (2 * m) * cost_sum\n",
    "\n",
    "    return total_cost\n"
   ]
  },
  {
   "cell_type": "markdown",
   "metadata": {},
   "source": [
    "<a name=\"toc_40291_2.1\"></a>\n",
    "## Gradient descent summary\n",
    "So far in this course, you have developed a linear model that predicts $f_{w,b}(x^{(i)})$:\n",
    "$$f_{w,b}(x^{(i)}) = wx^{(i)} + b \\tag{1}$$\n",
    "In linear regression, you utilize input training data to fit the parameters $w$,$b$ by minimizing a measure of the error between our predictions $f_{w,b}(x^{(i)})$ and the actual data $y^{(i)}$. The measure is called the $cost$, $J(w,b)$. In training you measure the cost over all of our training samples $x^{(i)},y^{(i)}$\n",
    "$$J(w,b) = \\frac{1}{2m} \\sum\\limits_{i = 0}^{m-1} (f_{w,b}(x^{(i)}) - y^{(i)})^2\\tag{2}$$ "
   ]
  },
  {
   "cell_type": "markdown",
   "metadata": {},
   "source": [
    "\n",
    "In lecture, *gradient descent* was described as:\n",
    "\n",
    "$$\\begin{align*} \\text{repeat}&\\text{ until convergence:} \\; \\lbrace \\newline\n",
    "\\;  w &= w -  \\alpha \\frac{\\partial J(w,b)}{\\partial w} \\tag{3}  \\; \\newline \n",
    " b &= b -  \\alpha \\frac{\\partial J(w,b)}{\\partial b}  \\newline \\rbrace\n",
    "\\end{align*}$$\n",
    "where, parameters $w$, $b$ are updated simultaneously.  \n",
    "The gradient is defined as:\n",
    "$$\n",
    "\\begin{align}\n",
    "\\frac{\\partial J(w,b)}{\\partial w}  &= \\frac{1}{m} \\sum\\limits_{i = 0}^{m-1} (f_{w,b}(x^{(i)}) - y^{(i)})x^{(i)} \\tag{4}\\\\\n",
    "  \\frac{\\partial J(w,b)}{\\partial b}  &= \\frac{1}{m} \\sum\\limits_{i = 0}^{m-1} (f_{w,b}(x^{(i)}) - y^{(i)}) \\tag{5}\\\\\n",
    "\\end{align}\n",
    "$$\n",
    "\n",
    "Here *simultaniously* means that you calculate the partial derivatives for all the parameters before updating any of the parameters."
   ]
  },
  {
   "cell_type": "code",
   "execution_count": 4,
   "metadata": {},
   "outputs": [],
   "source": [
    "def gradient_funtion(x, y, w, b):\n",
    "\n",
    "    m = x.shape[0]\n",
    "\n",
    "    dj_dw = 0\n",
    "    dj_db = 0\n",
    "\n",
    "    for i in range(m):\n",
    "        f_wb = w * x[i] + b\n",
    "        dj_dw_i = (f_wb - y[i]) * x[i] # simultaneous\n",
    "        dj_db_i = (f_wb - y[i]) # simultaneous\n",
    "        # now i can define partial derivative\n",
    "        dj_dw += dj_dw_i #sumation\n",
    "        dj_db += dj_db_i #sumation\n",
    "\n",
    "    dj_dw = dj_dw / m\n",
    "    dj_db = dj_db / m\n",
    "\n",
    "    return dj_dw, dj_db"
   ]
  },
  {
   "cell_type": "code",
   "execution_count": 5,
   "metadata": {},
   "outputs": [],
   "source": [
    "def gradient_descent(x, y, w_initial, b_initial, alpha, num_iters, cost_function, gradient_function):\n",
    "\n",
    "    J_history = []\n",
    "    p_history = []\n",
    "    w = w_initial\n",
    "    b = b_initial\n",
    "\n",
    "    for i in range(num_iters):\n",
    "        dj_dw, dj_db = gradient_function(x, y, w, b)\n",
    "\n",
    "        w = w - alpha * dj_dw\n",
    "        b = b - alpha * dj_db\n",
    "\n",
    "        if i < 100000:\n",
    "            J_history.append(cost_function(x, y, w, b))\n",
    "            p_history.append([w,b])\n",
    "\n",
    "        if i% math.ceil(num_iters/10) == 0:\n",
    "            print(f\"Iteration {i:4}: Cost {J_history[-1]:0.2e} \",\n",
    "                f\"dj_dw: {dj_dw: 0.3e}, dj_db: {dj_db: 0.3e}  \",\n",
    "                f\"w: {w: 0.3e}, b:{b: 0.5e}\")\n",
    "            \n",
    "    return w, b, J_history, p_history"
   ]
  },
  {
   "cell_type": "code",
   "execution_count": 6,
   "metadata": {},
   "outputs": [
    {
     "name": "stdout",
     "output_type": "stream",
     "text": [
      "Iteration    0: Cost 3.37e+05  dj_dw: -4.820e+03, dj_db: -9.257e+02   w:  4.820e+01, b: 9.25714e+00\n",
      "Iteration  100: Cost 3.01e+03  dj_dw:  9.596e-01, dj_db: -5.032e+00   w:  2.183e+02, b: 4.75688e+01\n",
      "Iteration  200: Cost 2.99e+03  dj_dw:  7.567e-01, dj_db: -3.968e+00   w:  2.174e+02, b: 5.20426e+01\n",
      "Iteration  300: Cost 2.98e+03  dj_dw:  5.967e-01, dj_db: -3.129e+00   w:  2.168e+02, b: 5.55705e+01\n",
      "Iteration  400: Cost 2.97e+03  dj_dw:  4.705e-01, dj_db: -2.468e+00   w:  2.162e+02, b: 5.83525e+01\n",
      "Iteration  500: Cost 2.96e+03  dj_dw:  3.710e-01, dj_db: -1.946e+00   w:  2.158e+02, b: 6.05462e+01\n",
      "Iteration  600: Cost 2.96e+03  dj_dw:  2.926e-01, dj_db: -1.534e+00   w:  2.155e+02, b: 6.22762e+01\n",
      "Iteration  700: Cost 2.96e+03  dj_dw:  2.307e-01, dj_db: -1.210e+00   w:  2.152e+02, b: 6.36403e+01\n",
      "Iteration  800: Cost 2.96e+03  dj_dw:  1.819e-01, dj_db: -9.541e-01   w:  2.150e+02, b: 6.47160e+01\n",
      "Iteration  900: Cost 2.96e+03  dj_dw:  1.435e-01, dj_db: -7.524e-01   w:  2.148e+02, b: 6.55643e+01\n",
      "(w,b) found by gradient descent: (214.7234, 66.2273)\n"
     ]
    }
   ],
   "source": [
    "# initialize parameters\n",
    "w_initial = 0\n",
    "b_initial = 0\n",
    "# some gradient descent settings\n",
    "num_iters = 1000\n",
    "tmp_alpha = 1.0e-2\n",
    "\n",
    "w_final, b_final, J_history, p_history = gradient_descent(x_train, y_train, w_initial, b_initial, tmp_alpha, num_iters, cost_function, gradient_funtion)\n",
    "\n",
    "print(f\"(w,b) found by gradient descent: ({w_final:8.4f},{b_final:8.4f})\")"
   ]
  },
  {
   "cell_type": "code",
   "execution_count": 7,
   "metadata": {},
   "outputs": [
    {
     "data": {
      "image/png": "[encoded data removed]",
      "text/plain": [
       "<Figure size 1200x400 with 2 Axes>"
      ]
     },
     "metadata": {},
     "output_type": "display_data"
    }
   ],
   "source": [
    "# plot cost versus iteration  \n",
    "fig, (ax1, ax2) = plt.subplots(1, 2, constrained_layout=True, figsize=(12,4))\n",
    "ax1.plot(J_history[:100])\n",
    "ax2.plot(1000 + np.arange(len(J_history[1000:])), J_history[1000:])\n",
    "ax1.set_title(\"Cost vs. iteration(start)\");  ax2.set_title(\"Cost vs. iteration (end)\")\n",
    "ax1.set_ylabel('Cost')            ;  ax2.set_ylabel('Cost') \n",
    "ax1.set_xlabel('iteration step')  ;  ax2.set_xlabel('iteration step') \n",
    "plt.show()"
   ]
  },
  {
   "cell_type": "code",
   "execution_count": 8,
   "metadata": {},
   "outputs": [
    {
     "name": "stdout",
     "output_type": "stream",
     "text": [
      "1000 sqft house prediction 281.0 Thousand dollars\n",
      "1200 sqft house prediction 323.9 Thousand dollars\n",
      "2000 sqft house prediction 495.7 Thousand dollars\n"
     ]
    }
   ],
   "source": [
    "print(f\"1000 sqft house prediction {w_final*1.0 + b_final:0.1f} Thousand dollars\")\n",
    "print(f\"1200 sqft house prediction {w_final*1.2 + b_final:0.1f} Thousand dollars\")\n",
    "print(f\"2000 sqft house prediction {w_final*2.0 + b_final:0.1f} Thousand dollars\")"
   ]
  },
  {
   "cell_type": "code",
   "execution_count": null,
   "metadata": {},
   "outputs": [],
   "source": []
  }
 ],
 "metadata": {
  "kernelspec": {
   "display_name": ".venv",
   "language": "python",
   "name": "python3"
  },
  "language_info": {
   "codemirror_mode": {
    "name": "ipython",
    "version": 3
   },
   "file_extension": ".py",
   "mimetype": "text/x-python",
   "name": "python",
   "nbconvert_exporter": "python",
   "pygments_lexer": "ipython3",
   "version": "3.12.5"
  }
 },
 "nbformat": 4,
 "nbformat_minor": 2
}
